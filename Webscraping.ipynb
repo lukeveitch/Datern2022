{
 "cells": [
  {
   "cell_type": "markdown",
   "metadata": {},
   "source": [
    "<img src=\"https://datern.co.uk/wp-content/uploads/2020/11/Datern_logo.png\" width=\"300\">\n",
    "\n",
    "# Webscraping with BeautifulSoup\n",
    "\n",
    "![Logo Image](https://datern.co.uk/wp-content/uploads/2020/07/qtq80-GTZMIV-e1596804686631.jpeg)"
   ]
  },
  {
   "cell_type": "markdown",
   "metadata": {},
   "source": [
    "<font size=\"4\">This session aims to give you an <strong>introduction to webscraping</strong> by giving easy to understand <strong>explanations and examples</strong>. We will break down the <strong>requests library and BeautifulSoup</strong>.\n",
    "</font>\n",
    "<hr>"
   ]
  },
  {
   "cell_type": "markdown",
   "metadata": {},
   "source": [
    "# What is webscraping?\n",
    "<font size=\"4\">\n",
    "    \n",
    "<br>\n",
    "In simple terms: extracting data from the internet.\n",
    "    \n",
    "<hr>\n",
    "<br><br>\n",
    "It is useful to know the basic structure of a website using HTML.\n",
    "We discuss static websites only - where the server sends you an HTML page that already contains all the page information in the response. You parse that response, pick the relevant data and place it into a relevant format.<br><br>\n",
    "Webscraping a dynamic website, the server might not send back any HTML at all. Instead, you could receive JavaScript code as a response. This code will look completely different from what you saw when you inspected the page with your browser's developer tools.\n",
    "\n",
    "<br>\n",
    "By the end of this article, you will have a strong grasp of the basics of web scraping and will easily implement a small program that can scrape a website. You could then create a .csv with a list of website to get similar information. \n",
    "<hr>\n",
    "</font>"
   ]
  },
  {
   "cell_type": "markdown",
   "metadata": {},
   "source": [
    "## 1 -  What is the requests library?\n",
    "\n",
    "<font size=\"4\">\n",
    "<br>\n",
    "Send all kinds of HTTP requests. It is an easy-to-use library with a lot of features ranging from passing parameters in URLs to sending custom headers and SSL Verification.\n",
    "The requests library gives you a user-friendly way to fetch static HTML from the Internet using Python. You can then parse the HTML with another package called Beautiful Soup.\n",
    "\n",
    "Note: You'll want to pass page.content instead of page.text to avoid problems with character encoding. The .content attribute holds raw bytes, which can be decoded better than the text representation you printed earlier using the .text attribute.\n",
    "\n",
    "</font>\n",
    "<hr>"
   ]
  },
  {
   "cell_type": "markdown",
   "metadata": {},
   "source": [
    "## 2 - What is BeautifulSoup?\n",
    "<font size=\"4\">\n",
    "<br>\n",
    "BeautifulSoup returns a Parse Tree in HTML or XML.It's a parser.\n",
    "It parses a web page and returns the data from HTML or XML pages .\n",
    "You can use lxml which is very fast and can use find_all or select to get all tags.\n",
    "It is used for pulling data out of web\n",
    "\n",
    "This might raise more questions that it answers. A parser? XML? HTTP requests? eh?\n",
    "</font>\n",
    "<hr>"
   ]
  },
  {
   "cell_type": "markdown",
   "metadata": {},
   "source": [
    "## 3  -  What is a parser?\n",
    "<font size=\"4\">\n",
    "<br>\n",
    "In simple terms: parsing is the process of turning some kind of data into some other type of data, usually into a more usable format for the task at hand.\n",
    "\n",
    "In computer science terms, you are given text which is made up of tokens. The parser breaks down the tokens into usable data structures.\n",
    "<br>\n",
    "<br>\n",
    "#Analogy<br><br>\n",
    "A sentence is made up of words. A parser is similar to if you were to systematically break down the sentence into nouns, verbs, adjectives etc.\n",
    "</font>\n",
    "<hr>"
   ]
  },
  {
   "cell_type": "markdown",
   "metadata": {},
   "source": [
    "## 4 - What is the difference between HTML and XML formats?\n",
    "<font size=\"4\">\n",
    "<br>\n",
    "XML focuses on transferring data, and is often used when writing web applications. Whereas, HTML is focused on the presentation of the data. Both are MARKUP LANGUAGES - which defines how a document looks, through annotation or tags. HTML has predefined tags. XML does not have predefined tags. Meaning you can create your own tags in XML which are known as element types.\n",
    "\n",
    "Most of the web is HTML.\n",
    "\n",
    "XML is content driven whereas HTML is format driven.\n",
    "</font>\n",
    "<hr>"
   ]
  },
  {
   "cell_type": "markdown",
   "metadata": {},
   "source": [
    "### Why use the requests and BeautifulSoup library together?\n",
    "<font size=\"4\">\n",
    "<br>\n",
    "Both python packages can be used to get the text from a static webpage. However, the requests library makes it easy to authenticate an HTTP request from the server without having to log in. BeautifulSoup makes it easier to parse through the content. This is why the two packages are often used together.\n",
    "\n",
    "If you get a status code of 200 then your request was successful. Any error code starting with a 4XX is a client side error, and any error starting with a 5XX is a server side error. \n",
    "\n",
    "___________________________________________________________________\n",
    "\n",
    "These are the best practices from the BeautifulSoup documentation - which gives you very useful tips which I have copied below: https://www.crummy.com/software/BeautifulSoup/bs4/doc/"
   ]
  },
  {
   "cell_type": "markdown",
   "metadata": {},
   "source": [
    "### Conclusion:\n",
    "<font size=\"4\">\n",
    "\n",
    "<br>\n",
    "\n",
    "Requests is for sending HTTP requests and you can print the response as text.\n",
    "Beautiful soup is for extracting the html from a web page. It is slower than other packages like Selenium or Scrapy. However, it is by far the easiest and simplest to get to grips with.\n",
    "</font>"
   ]
  },
  {
   "cell_type": "markdown",
   "metadata": {},
   "source": [
    "### What kind of projects can you do with webscraping?\n",
    "- Get the prices of your competitors products.\n",
    "- Scrape review sites to see how your customers view you over time.\n",
    "- Scrape job sites to never miss a new job posting.\n",
    "- Automating mundane tasks: Say your company what to find the phone number of every person based on their email address. Or get a picture based on a list of requirements - this can be automated using webscraping.\n",
    "- Creating a comparison of the best prices on different ecommerce sites."
   ]
  },
  {
   "cell_type": "markdown",
   "metadata": {},
   "source": [
    "# Simple Example using HTML string\n",
    "\n",
    "<img src=\"https://www.webharvy.com/images/web%20scraping.png\">"
   ]
  },
  {
   "cell_type": "code",
   "execution_count": 1,
   "metadata": {},
   "outputs": [
    {
     "name": "stdout",
     "output_type": "stream",
     "text": [
      "Requirement already satisfied: beautifulsoup4 in c:\\users\\moda\\anaconda3\\lib\\site-packages (4.9.3)\n",
      "Requirement already satisfied: soupsieve>1.2; python_version >= \"3.0\" in c:\\users\\moda\\anaconda3\\lib\\site-packages (from beautifulsoup4) (2.0.1)\n"
     ]
    }
   ],
   "source": [
    "!pip install beautifulsoup4"
   ]
  },
  {
   "cell_type": "code",
   "execution_count": 2,
   "metadata": {},
   "outputs": [],
   "source": [
    "from bs4 import BeautifulSoup"
   ]
  },
  {
   "cell_type": "code",
   "execution_count": 3,
   "metadata": {},
   "outputs": [],
   "source": [
    "SIMPLE_HTML = '''<html>\n",
    "\n",
    "<head></head>\n",
    "<body>\n",
    "\n",
    "<h1>Datern title</h1>\n",
    "    <p class=\"subtitle\">Lorem ipsum dolor sit amet. Consectetur edipiscim elit.</p>\n",
    "    <p>Here's another paragraph without a class</p>\n",
    "<ul>\n",
    "    <li>Garry Barlow</li>\n",
    "    <li>Rolf Harris</li>\n",
    "    <li>Stewart Lee</li>\n",
    "    <li>Jose Mourinho</li>\n",
    "</ul>\n",
    "\n",
    "</body>\n",
    "</html>\n",
    "'''"
   ]
  },
  {
   "cell_type": "markdown",
   "metadata": {},
   "source": [
    "<font size=\"4\">\n",
    "<br>\n",
    "We then pass this html string into a BeautifulSoup object which acts as a parser for the structure of the string.\n",
    "<br><br>\n",
    "Rememeber parsing is a programming term for understanding something that has a structure. \n",
    "</font>"
   ]
  },
  {
   "cell_type": "markdown",
   "metadata": {},
   "source": [
    "## Create a variable that instantiates BeautifulSoup"
   ]
  },
  {
   "cell_type": "code",
   "execution_count": 4,
   "metadata": {},
   "outputs": [],
   "source": [
    "simple_soup = BeautifulSoup(SIMPLE_HTML, 'html.parser')"
   ]
  },
  {
   "cell_type": "markdown",
   "metadata": {},
   "source": [
    "## Find specific content by tag within the HTML."
   ]
  },
  {
   "cell_type": "code",
   "execution_count": 5,
   "metadata": {},
   "outputs": [
    {
     "name": "stdout",
     "output_type": "stream",
     "text": [
      "Datern title\n"
     ]
    }
   ],
   "source": [
    "print(simple_soup.find('h1').string) # "
   ]
  },
  {
   "cell_type": "markdown",
   "metadata": {},
   "source": [
    "## Loop through multiple items"
   ]
  },
  {
   "cell_type": "code",
   "execution_count": 6,
   "metadata": {},
   "outputs": [
    {
     "name": "stdout",
     "output_type": "stream",
     "text": [
      "['Garry Barlow', 'Rolf Harris', 'Stewart Lee', 'Jose Mourinho']\n"
     ]
    }
   ],
   "source": [
    "list_items = simple_soup.find_all('li')\n",
    "list_content = [e.string for e in list_items] # if do not know list comprehensions then use usual for loop\n",
    "print(list_content)"
   ]
  },
  {
   "cell_type": "markdown",
   "metadata": {},
   "source": [
    "## Use the class within the element tag to retrieve more specific content"
   ]
  },
  {
   "cell_type": "code",
   "execution_count": 7,
   "metadata": {},
   "outputs": [
    {
     "data": {
      "text/plain": [
       "'Lorem ipsum dolor sit amet. Consectetur edipiscim elit.'"
      ]
     },
     "execution_count": 7,
     "metadata": {},
     "output_type": "execute_result"
    }
   ],
   "source": [
    "simple_soup.find('p', {'class': 'subtitle'}).string"
   ]
  },
  {
   "cell_type": "markdown",
   "metadata": {},
   "source": [
    "## Create functions\n",
    "\n",
    "Eventually you would want to create your own class."
   ]
  },
  {
   "cell_type": "code",
   "execution_count": 8,
   "metadata": {},
   "outputs": [
    {
     "name": "stdout",
     "output_type": "stream",
     "text": [
      "Datern title\n",
      "['Garry Barlow', 'Rolf Harris', 'Stewart Lee', 'Jose Mourinho']\n",
      "Lorem ipsum dolor sit amet. Consectetur edipiscim elit.\n",
      "Here's another paragraph without a class\n"
     ]
    }
   ],
   "source": [
    "def find_title():\n",
    "    print(simple_soup.find('h1').string)\n",
    "\n",
    "\n",
    "def find_list_items():\n",
    "    list_items = simple_soup.find_all('li')\n",
    "    list_content = [e.string for e in list_items]\n",
    "    print(list_content)\n",
    "\n",
    "\n",
    "def find_paragraph():\n",
    "    print(simple_soup.find('p', {'class': 'subtitle'}).string)\n",
    "\n",
    "\n",
    "def find_other_paragraph():\n",
    "    paragraphs = simple_soup.find_all('p')\n",
    "    other_paragraph = [p for p in paragraphs if 'subtitle' not in p.attrs.get('class', [])]\n",
    "    print(other_paragraph[0].string)\n",
    "\n",
    "\n",
    "find_title()\n",
    "find_list_items()\n",
    "find_paragraph()\n",
    "find_other_paragraph()"
   ]
  },
  {
   "cell_type": "markdown",
   "metadata": {},
   "source": [
    "# Example using a static website\n",
    "\n",
    "Let's use this website as an example: https://uk.trustpilot.com/review/www.americangolf.co.uk"
   ]
  },
  {
   "cell_type": "code",
   "execution_count": 9,
   "metadata": {},
   "outputs": [],
   "source": [
    "from bs4 import BeautifulSoup\n",
    "import requests\n",
    "import pandas as pd\n",
    "import pprint # this is to get nicer outputs"
   ]
  },
  {
   "cell_type": "code",
   "execution_count": 10,
   "metadata": {},
   "outputs": [],
   "source": [
    "url = 'https://uk.trustpilot.com/review/costacoffee.co.uk'\n",
    "result = requests.get(url) # make a request for the HTML content using the requests library\n",
    "soup =  BeautifulSoup(result.text, 'html.parser') # use the html parser"
   ]
  },
  {
   "cell_type": "markdown",
   "metadata": {},
   "source": [
    "We want to create a .csv file of the reviews of a company."
   ]
  },
  {
   "attachments": {
    "image.png": {
     "image/png": "[encoded data removed]"
    }
   },
   "cell_type": "markdown",
   "metadata": {},
   "source": [
    "### Get the class of the element on the page that we want to isolate\n",
    "\n",
    "- Remember to use ctrl + Shift + i.\n",
    "- Click on the element you want and note the class identifier.\n",
    "![image.png](attachment:image.png)"
   ]
  },
  {
   "cell_type": "code",
   "execution_count": 11,
   "metadata": {},
   "outputs": [
    {
     "name": "stdout",
     "output_type": "stream",
     "text": [
      "2.0\n"
     ]
    }
   ],
   "source": [
    "divTag = soup.find_all(\"div\", {\"class\": \"styles_rating__NPyeH\"})\n",
    "for tag in divTag:\n",
    "    print(tag.text)\n",
    "    rating_today = tag.text"
   ]
  },
  {
   "cell_type": "markdown",
   "metadata": {},
   "source": [
    "Similarly for the other parts on the webpage:\n",
    "- Rating\n",
    "- Reviews\n",
    "- Sentiment\n",
    "- We'll also add the date using the datetime library."
   ]
  },
  {
   "cell_type": "code",
   "execution_count": 12,
   "metadata": {},
   "outputs": [
    {
     "name": "stdout",
     "output_type": "stream",
     "text": [
      "1,332\n"
     ]
    }
   ],
   "source": [
    "divTag2 = soup.find_all(\"div\", {\"class\": \"styles_header__yrrqf\"}) # get the class identifier\n",
    "\n",
    "for tag in divTag2: # loop through the content of this tag\n",
    "    header = tag.find_all(\"span\")[0] # note that this is a list\n",
    "    number_of_reviews = header.text\n",
    "    print(number_of_reviews)"
   ]
  },
  {
   "cell_type": "markdown",
   "metadata": {},
   "source": [
    "We only want the top number so add a break statement into the for loop. \n",
    "\n",
    "Webscraping is an iterative process where you want to be as specific as possible, so this means you have to be explicit with what you want the parser to return."
   ]
  },
  {
   "cell_type": "code",
   "execution_count": 13,
   "metadata": {},
   "outputs": [
    {
     "name": "stdout",
     "output_type": "stream",
     "text": [
      "['Excellent', '24%', 'Great', '4%', 'Average', '5%', 'Poor', '12%', 'Bad', '55%']\n"
     ]
    }
   ],
   "source": [
    "divTag3 =  soup.find_all(\"div\", {\"class\":\"styles_container__z2XKR\"}) \n",
    "\n",
    "sentiment = []\n",
    "\n",
    "for tag in divTag3:\n",
    "    paragraph = tag.find_all(\"p\")\n",
    "    for goods in paragraph:\n",
    "        sentiment.append(goods.text)\n",
    "\n",
    "print(sentiment)"
   ]
  },
  {
   "cell_type": "markdown",
   "metadata": {},
   "source": [
    "## We now have the data, so let's place it into a dataframe using Pandas and export it as a .csv"
   ]
  },
  {
   "cell_type": "code",
   "execution_count": 14,
   "metadata": {},
   "outputs": [],
   "source": [
    "from datetime import date\n",
    "\n",
    "#Get the date for today\n",
    "today = date.today()\n",
    "today_formated = today.strftime(\"%d/%m/%Y\")"
   ]
  },
  {
   "cell_type": "code",
   "execution_count": 15,
   "metadata": {},
   "outputs": [
    {
     "name": "stdout",
     "output_type": "stream",
     "text": [
      "{'Average': '5%',\n",
      " 'Bad': '55%',\n",
      " 'Date': '27/06/2022',\n",
      " 'Excellent': '24%',\n",
      " 'Great': '4%',\n",
      " 'Link': 'https://uk.trustpilot.com/review/costacoffee.co.uk',\n",
      " 'Poor': '12%',\n",
      " 'Reviews': '1,332',\n",
      " 'Score': '2.0'}\n"
     ]
    }
   ],
   "source": [
    "df = pd.DataFrame()\n",
    "\n",
    "#Create a dictionary to then turn it into a dataframe\n",
    "dict = {'Date': today_formated, 'Link': url, 'Score': rating_today, 'Reviews': number_of_reviews}\n",
    "\n",
    "# loop through the sentiment list and add the sentiments to the dictionary above\n",
    "for i in range(0,10,2):\n",
    "    dict[sentiment[i]] = sentiment[i+1].replace('<', '')\n",
    "    if i == 8:\n",
    "        break\n",
    "pprint.pprint(dict)"
   ]
  },
  {
   "cell_type": "code",
   "execution_count": 16,
   "metadata": {},
   "outputs": [
    {
     "data": {
      "text/html": [
       "<div>\n",
       "<style scoped>\n",
       "    .dataframe tbody tr th:only-of-type {\n",
       "        vertical-align: middle;\n",
       "    }\n",
       "\n",
       "    .dataframe tbody tr th {\n",
       "        vertical-align: top;\n",
       "    }\n",
       "\n",
       "    .dataframe thead th {\n",
       "        text-align: right;\n",
       "    }\n",
       "</style>\n",
       "<table border=\"1\" class=\"dataframe\">\n",
       "  <thead>\n",
       "    <tr style=\"text-align: right;\">\n",
       "      <th></th>\n",
       "      <th>Date</th>\n",
       "      <th>Link</th>\n",
       "      <th>Reviews</th>\n",
       "      <th>Score</th>\n",
       "      <th>Excellent</th>\n",
       "      <th>Great</th>\n",
       "      <th>Average</th>\n",
       "      <th>Poor</th>\n",
       "      <th>Bad</th>\n",
       "    </tr>\n",
       "  </thead>\n",
       "  <tbody>\n",
       "    <tr>\n",
       "      <th>0</th>\n",
       "      <td>27/06/2022</td>\n",
       "      <td>https://uk.trustpilot.com/review/costacoffee.c...</td>\n",
       "      <td>1,332</td>\n",
       "      <td>2.0</td>\n",
       "      <td>24%</td>\n",
       "      <td>4%</td>\n",
       "      <td>5%</td>\n",
       "      <td>12%</td>\n",
       "      <td>55%</td>\n",
       "    </tr>\n",
       "  </tbody>\n",
       "</table>\n",
       "</div>"
      ],
      "text/plain": [
       "         Date                                               Link Reviews  \\\n",
       "0  27/06/2022  https://uk.trustpilot.com/review/costacoffee.c...   1,332   \n",
       "\n",
       "  Score Excellent Great Average Poor  Bad  \n",
       "0   2.0       24%    4%      5%  12%  55%  "
      ]
     },
     "execution_count": 16,
     "metadata": {},
     "output_type": "execute_result"
    }
   ],
   "source": [
    "#Create the dataframe\n",
    "df = df.append(dict, ignore_index = True, sort = False)\n",
    "\n",
    "#Rearrange the columns\n",
    "cols = ['Date', 'Link', 'Reviews', 'Score', 'Excellent', 'Great', 'Average',  'Poor', 'Bad']\n",
    "df = df[cols]\n",
    "\n",
    "df.head()"
   ]
  },
  {
   "cell_type": "markdown",
   "metadata": {},
   "source": [
    "### Exporting to csv\n"
   ]
  },
  {
   "cell_type": "code",
   "execution_count": 21,
   "metadata": {},
   "outputs": [],
   "source": [
    "df.to_csv('Simple_Scrape_Example.csv', index=False)"
   ]
  },
  {
   "cell_type": "markdown",
   "metadata": {},
   "source": [
    "# Create function or class to use for different companies"
   ]
  },
  {
   "cell_type": "code",
   "execution_count": 19,
   "metadata": {},
   "outputs": [],
   "source": [
    "def webscrape(url):\n",
    "    result = requests.get(url) \n",
    "    soup =  BeautifulSoup(result.text, 'html.parser') \n",
    "    \n",
    "    \n",
    "    divTag = soup.find_all(\"div\", {\"class\": \"styles_rating__NPyeH\"})\n",
    "    for tag in divTag:\n",
    "        rating_today = tag.text\n",
    "    \n",
    "    \n",
    "    divTag2 = soup.find_all(\"div\", {\"class\": \"styles_header__yrrqf\"}) # get the class identifier\n",
    "\n",
    "    for tag in divTag2: # loop through the content of this tag\n",
    "        header = tag.find_all(\"span\")[0] # note that this is a list\n",
    "        number_of_reviews = header.text\n",
    "    \n",
    "    \n",
    "    divTag3 =  soup.find_all(\"div\", {\"class\":\"styles_container__z2XKR\"}) \n",
    "    sentiment = []\n",
    "\n",
    "    for tag in divTag3:\n",
    "        paragraph = tag.find_all(\"p\")\n",
    "        for goods in paragraph:\n",
    "            sentiment.append(goods.text)\n",
    "    return rating_today, number_of_reviews, sentiment"
   ]
  },
  {
   "cell_type": "code",
   "execution_count": 20,
   "metadata": {},
   "outputs": [
    {
     "data": {
      "text/plain": [
       "('2.8',\n",
       " '140',\n",
       " ['Excellent',\n",
       "  '33%',\n",
       "  'Great',\n",
       "  '11%',\n",
       "  'Average',\n",
       "  '4%',\n",
       "  'Poor',\n",
       "  '10%',\n",
       "  'Bad',\n",
       "  '42%'])"
      ]
     },
     "execution_count": 20,
     "metadata": {},
     "output_type": "execute_result"
    }
   ],
   "source": [
    "webscrape('https://uk.trustpilot.com/review/cafenero.co.uk')"
   ]
  },
  {
   "cell_type": "markdown",
   "metadata": {},
   "source": [
    "The possibilities are endless for the data that you can extract from the web! Hope this makes sense :)\n",
    "\n",
    "Here is a fun project that I made a while ago that scrapes the lyrics of a song:\n",
    "https://github.com/lukeveitch/LyricsScraper"
   ]
  },
  {
   "cell_type": "code",
   "execution_count": null,
   "metadata": {},
   "outputs": [],
   "source": []
  }
 ],
 "metadata": {
  "kernelspec": {
   "display_name": "Python 3",
   "language": "python",
   "name": "python3"
  },
  "language_info": {
   "codemirror_mode": {
    "name": "ipython",
    "version": 3
   },
   "file_extension": ".py",
   "mimetype": "text/x-python",
   "name": "python",
   "nbconvert_exporter": "python",
   "pygments_lexer": "ipython3",
   "version": "3.8.5"
  }
 },
 "nbformat": 4,
 "nbformat_minor": 4
}
